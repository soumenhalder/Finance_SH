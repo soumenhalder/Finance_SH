{
 "cells": [
  {
   "cell_type": "code",
   "execution_count": 57,
   "id": "da16e553-5248-4b33-b199-3b5fb3f32200",
   "metadata": {},
   "outputs": [],
   "source": [
    "# importing the libraries\n",
    "import pandas as pd\n",
    "import matplotlib.pyplot as plt\n",
    "import numpy as np"
   ]
  },
  {
   "cell_type": "code",
   "execution_count": null,
   "id": "1088ef7d-5576-4675-baf9-cd3cf0984aa8",
   "metadata": {},
   "outputs": [],
   "source": []
  },
  {
   "cell_type": "markdown",
   "id": "a0fcbab7-e3e1-41ac-a33a-9f8d936f8ec5",
   "metadata": {},
   "source": [
    "# Data\n",
    "\n",
    "The data has been downloaded from the website: `https://www-2.rotman.utoronto.ca/~hull/ofod/VaRExample/`"
   ]
  },
  {
   "cell_type": "code",
   "execution_count": 31,
   "id": "43718817-b84c-4e50-acf4-bb7143a84baf",
   "metadata": {},
   "outputs": [],
   "source": [
    "# importting the data\n",
    "df = pd.read_csv(\"Data/Data.csv\")"
   ]
  },
  {
   "cell_type": "code",
   "execution_count": 32,
   "id": "da05463f-17eb-4668-807d-f81990f1f63b",
   "metadata": {},
   "outputs": [
    {
     "data": {
      "text/html": [
       "<div>\n",
       "<style scoped>\n",
       "    .dataframe tbody tr th:only-of-type {\n",
       "        vertical-align: middle;\n",
       "    }\n",
       "\n",
       "    .dataframe tbody tr th {\n",
       "        vertical-align: top;\n",
       "    }\n",
       "\n",
       "    .dataframe thead th {\n",
       "        text-align: right;\n",
       "    }\n",
       "</style>\n",
       "<table border=\"1\" class=\"dataframe\">\n",
       "  <thead>\n",
       "    <tr style=\"text-align: right;\">\n",
       "      <th></th>\n",
       "      <th>Day</th>\n",
       "      <th>Date</th>\n",
       "      <th>DJIA</th>\n",
       "      <th>FTSE 100</th>\n",
       "      <th>CAC 40</th>\n",
       "      <th>Nikkei 225</th>\n",
       "    </tr>\n",
       "  </thead>\n",
       "  <tbody>\n",
       "    <tr>\n",
       "      <th>0</th>\n",
       "      <td>0</td>\n",
       "      <td>07/08/2006</td>\n",
       "      <td>11219.38</td>\n",
       "      <td>11131.84</td>\n",
       "      <td>6373.89</td>\n",
       "      <td>131.77</td>\n",
       "    </tr>\n",
       "    <tr>\n",
       "      <th>1</th>\n",
       "      <td>1</td>\n",
       "      <td>08/08/2006</td>\n",
       "      <td>11173.59</td>\n",
       "      <td>11096.28</td>\n",
       "      <td>6378.16</td>\n",
       "      <td>134.38</td>\n",
       "    </tr>\n",
       "    <tr>\n",
       "      <th>2</th>\n",
       "      <td>2</td>\n",
       "      <td>09/08/2006</td>\n",
       "      <td>11076.18</td>\n",
       "      <td>11185.35</td>\n",
       "      <td>6474.04</td>\n",
       "      <td>135.94</td>\n",
       "    </tr>\n",
       "    <tr>\n",
       "      <th>3</th>\n",
       "      <td>3</td>\n",
       "      <td>10/08/2006</td>\n",
       "      <td>11124.37</td>\n",
       "      <td>11016.71</td>\n",
       "      <td>6357.49</td>\n",
       "      <td>135.44</td>\n",
       "    </tr>\n",
       "    <tr>\n",
       "      <th>4</th>\n",
       "      <td>4</td>\n",
       "      <td>11/08/2006</td>\n",
       "      <td>11088.02</td>\n",
       "      <td>11040.73</td>\n",
       "      <td>6364.76</td>\n",
       "      <td>134.10</td>\n",
       "    </tr>\n",
       "  </tbody>\n",
       "</table>\n",
       "</div>"
      ],
      "text/plain": [
       "   Day        Date      DJIA  FTSE 100   CAC 40  Nikkei 225\n",
       "0    0  07/08/2006  11219.38  11131.84  6373.89      131.77\n",
       "1    1  08/08/2006  11173.59  11096.28  6378.16      134.38\n",
       "2    2  09/08/2006  11076.18  11185.35  6474.04      135.94\n",
       "3    3  10/08/2006  11124.37  11016.71  6357.49      135.44\n",
       "4    4  11/08/2006  11088.02  11040.73  6364.76      134.10"
      ]
     },
     "execution_count": 32,
     "metadata": {},
     "output_type": "execute_result"
    }
   ],
   "source": [
    "# showing some entries\n",
    "df.head()"
   ]
  },
  {
   "cell_type": "code",
   "execution_count": 33,
   "id": "039f6adb-91e0-415e-bba7-f74ed50efa98",
   "metadata": {},
   "outputs": [
    {
     "data": {
      "text/plain": [
       "Day             int64\n",
       "Date           object\n",
       "DJIA          float64\n",
       "FTSE 100      float64\n",
       "CAC 40        float64\n",
       "Nikkei 225    float64\n",
       "dtype: object"
      ]
     },
     "execution_count": 33,
     "metadata": {},
     "output_type": "execute_result"
    }
   ],
   "source": [
    "df.dtypes"
   ]
  },
  {
   "cell_type": "markdown",
   "id": "8391410e-56ab-42f1-bb09-dbf9a6b9ebb2",
   "metadata": {},
   "source": [
    "Investment portfolio\n",
    "\n",
    "Index | Portfolio value\n",
    "------|---------------\n",
    "DJIA   | 4000\n",
    "FTSE   | 3000\n",
    "CAC 40 | 1000\n",
    "Nikkei 225 | 2000\n",
    "Total  | 10000"
   ]
  },
  {
   "cell_type": "code",
   "execution_count": 34,
   "id": "ac9db582-3ab4-4928-bcfe-6a75a3df0222",
   "metadata": {},
   "outputs": [],
   "source": [
    "investment_instock = [4000, 3000, 1000, 2000]"
   ]
  },
  {
   "cell_type": "markdown",
   "id": "80b088e1-4ffb-425c-9fc1-432384379e72",
   "metadata": {},
   "source": [
    "# Historical approach"
   ]
  },
  {
   "cell_type": "code",
   "execution_count": 35,
   "id": "631b8656-5256-45d6-bc0e-5719177aab36",
   "metadata": {},
   "outputs": [
    {
     "data": {
      "text/plain": [
       "['Day', 'Date', 'DJIA', 'FTSE 100', 'CAC 40', 'Nikkei 225']"
      ]
     },
     "execution_count": 35,
     "metadata": {},
     "output_type": "execute_result"
    }
   ],
   "source": [
    "df.columns.tolist()"
   ]
  },
  {
   "cell_type": "code",
   "execution_count": 36,
   "id": "05a14735-594b-45f9-9159-d6bb99020a71",
   "metadata": {},
   "outputs": [
    {
     "data": {
      "text/plain": [
       "['DJIA', 'FTSE 100', 'CAC 40', 'Nikkei 225']"
      ]
     },
     "execution_count": 36,
     "metadata": {},
     "output_type": "execute_result"
    }
   ],
   "source": [
    "# list down the stock names (here first two columns are Day and Date, so removing that give you stock list)\n",
    "stocklist =df.columns.tolist()[2:]\n",
    "stocklist"
   ]
  },
  {
   "cell_type": "code",
   "execution_count": 37,
   "id": "2b650a99-164b-4ad0-bd57-6707b05857ca",
   "metadata": {},
   "outputs": [
    {
     "name": "stdout",
     "output_type": "stream",
     "text": [
      "Stock Investment\n",
      "DJIA ->  $ 4000\n",
      "FTSE 100 ->  $ 3000\n",
      "CAC 40 ->  $ 1000\n",
      "Nikkei 225 ->  $ 2000\n"
     ]
    }
   ],
   "source": [
    "stock_dict = {}\n",
    "print('Stock', 'Investment')\n",
    "for st, inv in zip(stocklist, investment_instock):\n",
    "    stock_dict[st] = inv\n",
    "    print(st,'-> ', '$',inv)"
   ]
  },
  {
   "cell_type": "code",
   "execution_count": 38,
   "id": "ddad5f42-b642-4cb6-8722-89eb0d4b8c28",
   "metadata": {},
   "outputs": [
    {
     "data": {
      "text/plain": [
       "{'DJIA': 4000, 'FTSE 100': 3000, 'CAC 40': 1000, 'Nikkei 225': 2000}"
      ]
     },
     "execution_count": 38,
     "metadata": {},
     "output_type": "execute_result"
    }
   ],
   "source": [
    "# populated a dictionary with stock and investment\n",
    "stock_dict"
   ]
  },
  {
   "cell_type": "code",
   "execution_count": 39,
   "id": "2d212054-1bb3-4cce-b4da-6a67491929ef",
   "metadata": {},
   "outputs": [
    {
     "data": {
      "text/html": [
       "<div>\n",
       "<style scoped>\n",
       "    .dataframe tbody tr th:only-of-type {\n",
       "        vertical-align: middle;\n",
       "    }\n",
       "\n",
       "    .dataframe tbody tr th {\n",
       "        vertical-align: top;\n",
       "    }\n",
       "\n",
       "    .dataframe thead th {\n",
       "        text-align: right;\n",
       "    }\n",
       "</style>\n",
       "<table border=\"1\" class=\"dataframe\">\n",
       "  <thead>\n",
       "    <tr style=\"text-align: right;\">\n",
       "      <th></th>\n",
       "      <th>Day</th>\n",
       "      <th>Date</th>\n",
       "      <th>DJIA</th>\n",
       "      <th>FTSE 100</th>\n",
       "      <th>CAC 40</th>\n",
       "      <th>Nikkei 225</th>\n",
       "    </tr>\n",
       "  </thead>\n",
       "  <tbody>\n",
       "    <tr>\n",
       "      <th>0</th>\n",
       "      <td>0</td>\n",
       "      <td>07/08/2006</td>\n",
       "      <td>11219.38</td>\n",
       "      <td>11131.84</td>\n",
       "      <td>6373.89</td>\n",
       "      <td>131.77</td>\n",
       "    </tr>\n",
       "    <tr>\n",
       "      <th>1</th>\n",
       "      <td>1</td>\n",
       "      <td>08/08/2006</td>\n",
       "      <td>11173.59</td>\n",
       "      <td>11096.28</td>\n",
       "      <td>6378.16</td>\n",
       "      <td>134.38</td>\n",
       "    </tr>\n",
       "    <tr>\n",
       "      <th>2</th>\n",
       "      <td>2</td>\n",
       "      <td>09/08/2006</td>\n",
       "      <td>11076.18</td>\n",
       "      <td>11185.35</td>\n",
       "      <td>6474.04</td>\n",
       "      <td>135.94</td>\n",
       "    </tr>\n",
       "    <tr>\n",
       "      <th>3</th>\n",
       "      <td>3</td>\n",
       "      <td>10/08/2006</td>\n",
       "      <td>11124.37</td>\n",
       "      <td>11016.71</td>\n",
       "      <td>6357.49</td>\n",
       "      <td>135.44</td>\n",
       "    </tr>\n",
       "    <tr>\n",
       "      <th>4</th>\n",
       "      <td>4</td>\n",
       "      <td>11/08/2006</td>\n",
       "      <td>11088.02</td>\n",
       "      <td>11040.73</td>\n",
       "      <td>6364.76</td>\n",
       "      <td>134.10</td>\n",
       "    </tr>\n",
       "  </tbody>\n",
       "</table>\n",
       "</div>"
      ],
      "text/plain": [
       "   Day        Date      DJIA  FTSE 100   CAC 40  Nikkei 225\n",
       "0    0  07/08/2006  11219.38  11131.84  6373.89      131.77\n",
       "1    1  08/08/2006  11173.59  11096.28  6378.16      134.38\n",
       "2    2  09/08/2006  11076.18  11185.35  6474.04      135.94\n",
       "3    3  10/08/2006  11124.37  11016.71  6357.49      135.44\n",
       "4    4  11/08/2006  11088.02  11040.73  6364.76      134.10"
      ]
     },
     "execution_count": 39,
     "metadata": {},
     "output_type": "execute_result"
    }
   ],
   "source": [
    "df.head(5)"
   ]
  },
  {
   "cell_type": "markdown",
   "id": "3c1feb8d-8eb0-4604-96de-906b5293eb63",
   "metadata": {},
   "source": [
    "## Implemented exactly like John.C.Hull book"
   ]
  },
  {
   "cell_type": "code",
   "execution_count": 40,
   "id": "d745900c-0f47-4868-8a90-cc5567e14a13",
   "metadata": {},
   "outputs": [
    {
     "data": {
      "text/html": [
       "<div>\n",
       "<style scoped>\n",
       "    .dataframe tbody tr th:only-of-type {\n",
       "        vertical-align: middle;\n",
       "    }\n",
       "\n",
       "    .dataframe tbody tr th {\n",
       "        vertical-align: top;\n",
       "    }\n",
       "\n",
       "    .dataframe thead th {\n",
       "        text-align: right;\n",
       "    }\n",
       "</style>\n",
       "<table border=\"1\" class=\"dataframe\">\n",
       "  <thead>\n",
       "    <tr style=\"text-align: right;\">\n",
       "      <th></th>\n",
       "      <th>Scenario</th>\n",
       "      <th>DJIA</th>\n",
       "      <th>FTSE 100</th>\n",
       "      <th>CAC 40</th>\n",
       "      <th>Nikkei 225</th>\n",
       "      <th>Portfolio value</th>\n",
       "      <th>Portfolio loss</th>\n",
       "    </tr>\n",
       "  </thead>\n",
       "  <tbody>\n",
       "    <tr>\n",
       "      <th>1</th>\n",
       "      <td>1</td>\n",
       "      <td>10977.075328</td>\n",
       "      <td>9569.233691</td>\n",
       "      <td>6204.553775</td>\n",
       "      <td>115.054653</td>\n",
       "      <td>10014.375756</td>\n",
       "      <td>-14.375756</td>\n",
       "    </tr>\n",
       "    <tr>\n",
       "      <th>2</th>\n",
       "      <td>2</td>\n",
       "      <td>10925.971020</td>\n",
       "      <td>9676.958536</td>\n",
       "      <td>6293.607814</td>\n",
       "      <td>114.129713</td>\n",
       "      <td>10027.459819</td>\n",
       "      <td>-27.459819</td>\n",
       "    </tr>\n",
       "    <tr>\n",
       "      <th>3</th>\n",
       "      <td>3</td>\n",
       "      <td>11070.014536</td>\n",
       "      <td>9455.163614</td>\n",
       "      <td>6088.776250</td>\n",
       "      <td>112.405038</td>\n",
       "      <td>9946.813664</td>\n",
       "      <td>53.186336</td>\n",
       "    </tr>\n",
       "    <tr>\n",
       "      <th>4</th>\n",
       "      <td>4</td>\n",
       "      <td>10986.044308</td>\n",
       "      <td>9620.830895</td>\n",
       "      <td>6207.490362</td>\n",
       "      <td>111.703795</td>\n",
       "      <td>9974.826743</td>\n",
       "      <td>25.173257</td>\n",
       "    </tr>\n",
       "    <tr>\n",
       "      <th>5</th>\n",
       "      <td>5</td>\n",
       "      <td>11031.851405</td>\n",
       "      <td>9659.695423</td>\n",
       "      <td>6265.582154</td>\n",
       "      <td>114.561517</td>\n",
       "      <td>10063.624705</td>\n",
       "      <td>-63.624705</td>\n",
       "    </tr>\n",
       "  </tbody>\n",
       "</table>\n",
       "</div>"
      ],
      "text/plain": [
       "   Scenario          DJIA     FTSE 100       CAC 40  Nikkei 225  \\\n",
       "1         1  10977.075328  9569.233691  6204.553775  115.054653   \n",
       "2         2  10925.971020  9676.958536  6293.607814  114.129713   \n",
       "3         3  11070.014536  9455.163614  6088.776250  112.405038   \n",
       "4         4  10986.044308  9620.830895  6207.490362  111.703795   \n",
       "5         5  11031.851405  9659.695423  6265.582154  114.561517   \n",
       "\n",
       "   Portfolio value  Portfolio loss  \n",
       "1     10014.375756      -14.375756  \n",
       "2     10027.459819      -27.459819  \n",
       "3      9946.813664       53.186336  \n",
       "4      9974.826743       25.173257  \n",
       "5     10063.624705      -63.624705  "
      ]
     },
     "execution_count": 40,
     "metadata": {},
     "output_type": "execute_result"
    }
   ],
   "source": [
    "def calibrate_lastday(row, dataframe, colname):\n",
    "    if row.name == 0:\n",
    "        return 0 # for the first column\n",
    "                # A warning to use: the first row must be with index 0, which might not always the case so use `reset_index` to safeguard this \n",
    "    else:\n",
    "        return (row[colname] / dataframe.at[row.name - 1, colname]) *   dataframe.at[500, colname]\n",
    "\n",
    "df1 = df.copy()\n",
    "df1.rename(columns={'Day': 'Scenario'},inplace=True)\n",
    "df1.drop(columns=['Date'], inplace=True)\n",
    "\n",
    "for st in stocklist:\n",
    "    df1.loc[:, st] = df.apply(lambda row: calibrate_lastday(row, df1, st), axis=1)\n",
    "df1.drop(index=0, inplace=True)\n",
    "df1.loc[:, \"Portfolio value\"] = 4000 * df1[\"DJIA\"]/df.at[500, \"DJIA\"] + 3000 * df1[\"FTSE 100\"]/df.at[500, \"FTSE 100\"] +\\\n",
    "                               1000 * df1[\"CAC 40\"]/df.at[500, \"CAC 40\"] + 2000 * df1[\"Nikkei 225\"]/df.at[500, \"Nikkei 225\"]\n",
    "df1[\"Portfolio loss\"] = 10000 -  df1[\"Portfolio value\"]\n",
    "df1.head(5)"
   ]
  },
  {
   "cell_type": "markdown",
   "id": "a8459a59-9eed-43aa-b6a2-1392dfbefae5",
   "metadata": {},
   "source": [
    "It is not matching exactly digit by digit because of the calculation is done in the final state, which  gives round off disagreement w.r.t earlier"
   ]
  },
  {
   "cell_type": "code",
   "execution_count": null,
   "id": "ea4566e8-05eb-403c-946c-131431aff914",
   "metadata": {},
   "outputs": [],
   "source": []
  },
  {
   "cell_type": "markdown",
   "id": "fa967caf-6b9b-48ab-a96c-3822c9c7fad1",
   "metadata": {},
   "source": [
    "## Simpler approach"
   ]
  },
  {
   "cell_type": "code",
   "execution_count": 41,
   "id": "55adfdd8-ec69-49bc-8578-3d627271cbb5",
   "metadata": {},
   "outputs": [
    {
     "data": {
      "text/html": [
       "<div>\n",
       "<style scoped>\n",
       "    .dataframe tbody tr th:only-of-type {\n",
       "        vertical-align: middle;\n",
       "    }\n",
       "\n",
       "    .dataframe tbody tr th {\n",
       "        vertical-align: top;\n",
       "    }\n",
       "\n",
       "    .dataframe thead th {\n",
       "        text-align: right;\n",
       "    }\n",
       "</style>\n",
       "<table border=\"1\" class=\"dataframe\">\n",
       "  <thead>\n",
       "    <tr style=\"text-align: right;\">\n",
       "      <th></th>\n",
       "      <th>Day</th>\n",
       "      <th>Date</th>\n",
       "      <th>DJIA</th>\n",
       "      <th>FTSE 100</th>\n",
       "      <th>CAC 40</th>\n",
       "      <th>Nikkei 225</th>\n",
       "      <th>DJIA_return</th>\n",
       "      <th>FTSE 100_return</th>\n",
       "      <th>CAC 40_return</th>\n",
       "      <th>Nikkei 225_return</th>\n",
       "      <th>Portfolio loss</th>\n",
       "    </tr>\n",
       "  </thead>\n",
       "  <tbody>\n",
       "    <tr>\n",
       "      <th>0</th>\n",
       "      <td>0</td>\n",
       "      <td>07/08/2006</td>\n",
       "      <td>11219.38</td>\n",
       "      <td>11131.84</td>\n",
       "      <td>6373.89</td>\n",
       "      <td>131.77</td>\n",
       "      <td>0.000000</td>\n",
       "      <td>0.000000</td>\n",
       "      <td>0.000000</td>\n",
       "      <td>0.000000</td>\n",
       "      <td>0.000000</td>\n",
       "    </tr>\n",
       "    <tr>\n",
       "      <th>1</th>\n",
       "      <td>1</td>\n",
       "      <td>08/08/2006</td>\n",
       "      <td>11173.59</td>\n",
       "      <td>11096.28</td>\n",
       "      <td>6378.16</td>\n",
       "      <td>134.38</td>\n",
       "      <td>-0.004081</td>\n",
       "      <td>-0.003194</td>\n",
       "      <td>0.000670</td>\n",
       "      <td>0.019807</td>\n",
       "      <td>-14.375756</td>\n",
       "    </tr>\n",
       "    <tr>\n",
       "      <th>2</th>\n",
       "      <td>2</td>\n",
       "      <td>09/08/2006</td>\n",
       "      <td>11076.18</td>\n",
       "      <td>11185.35</td>\n",
       "      <td>6474.04</td>\n",
       "      <td>135.94</td>\n",
       "      <td>-0.008718</td>\n",
       "      <td>0.008027</td>\n",
       "      <td>0.015033</td>\n",
       "      <td>0.011609</td>\n",
       "      <td>-27.459819</td>\n",
       "    </tr>\n",
       "    <tr>\n",
       "      <th>3</th>\n",
       "      <td>3</td>\n",
       "      <td>10/08/2006</td>\n",
       "      <td>11124.37</td>\n",
       "      <td>11016.71</td>\n",
       "      <td>6357.49</td>\n",
       "      <td>135.44</td>\n",
       "      <td>0.004351</td>\n",
       "      <td>-0.015077</td>\n",
       "      <td>-0.018003</td>\n",
       "      <td>-0.003678</td>\n",
       "      <td>53.186336</td>\n",
       "    </tr>\n",
       "    <tr>\n",
       "      <th>4</th>\n",
       "      <td>4</td>\n",
       "      <td>11/08/2006</td>\n",
       "      <td>11088.02</td>\n",
       "      <td>11040.73</td>\n",
       "      <td>6364.76</td>\n",
       "      <td>134.10</td>\n",
       "      <td>-0.003268</td>\n",
       "      <td>0.002180</td>\n",
       "      <td>0.001144</td>\n",
       "      <td>-0.009894</td>\n",
       "      <td>25.173257</td>\n",
       "    </tr>\n",
       "  </tbody>\n",
       "</table>\n",
       "</div>"
      ],
      "text/plain": [
       "   Day        Date      DJIA  FTSE 100   CAC 40  Nikkei 225  DJIA_return  \\\n",
       "0    0  07/08/2006  11219.38  11131.84  6373.89      131.77     0.000000   \n",
       "1    1  08/08/2006  11173.59  11096.28  6378.16      134.38    -0.004081   \n",
       "2    2  09/08/2006  11076.18  11185.35  6474.04      135.94    -0.008718   \n",
       "3    3  10/08/2006  11124.37  11016.71  6357.49      135.44     0.004351   \n",
       "4    4  11/08/2006  11088.02  11040.73  6364.76      134.10    -0.003268   \n",
       "\n",
       "   FTSE 100_return  CAC 40_return  Nikkei 225_return  Portfolio loss  \n",
       "0         0.000000       0.000000           0.000000        0.000000  \n",
       "1        -0.003194       0.000670           0.019807      -14.375756  \n",
       "2         0.008027       0.015033           0.011609      -27.459819  \n",
       "3        -0.015077      -0.018003          -0.003678       53.186336  \n",
       "4         0.002180       0.001144          -0.009894       25.173257  "
      ]
     },
     "execution_count": 41,
     "metadata": {},
     "output_type": "execute_result"
    }
   ],
   "source": [
    "## Method 1\n",
    "def calculate_daily_return(row, dataframe, colname):\n",
    "    if row.name == 0:\n",
    "        return 0 # for the first column\n",
    "                # A warning to use: the first row must be with index 0, which might not always the case so use `reset_index` to safeguard this \n",
    "    else:\n",
    "        return row[colname] / dataframe.at[row.name - 1, colname] -1\n",
    "\n",
    "df.reset_index(inplace = True,  drop = True) # to safegurard to use the function `calculate_daily_return`\n",
    "for key in stock_dict:\n",
    "    df.loc[:, key+\"_return\"] = df.apply(lambda row: calculate_daily_return(row, df, key), axis=1)\n",
    "\n",
    "def calculate_daily_loss(row, dataframe):\n",
    "    total = 0\n",
    "    for key in stock_dict:\n",
    "        total += -row[key+'_return'] * stock_dict[key]\n",
    "    return total\n",
    "\n",
    "df.loc[:, \"Portfolio loss\"] = df.apply(lambda row: calculate_daily_loss(row, df), axis=1)\n",
    "df.head()"
   ]
  },
  {
   "cell_type": "code",
   "execution_count": 42,
   "id": "497f3ba2-56ad-4399-82ba-79b944bfd332",
   "metadata": {},
   "outputs": [
    {
     "data": {
      "image/png": "[encoded data removed]",
      "text/plain": [
       "<Figure size 640x480 with 1 Axes>"
      ]
     },
     "metadata": {},
     "output_type": "display_data"
    }
   ],
   "source": [
    "plt.hist(df[\"Portfolio loss\"], bins = 15, histtype=\"step\", lw=2)\n",
    "plt.xlabel(\"Loss ($)\")\n",
    "plt.ylabel(\"Frequency\")\n",
    "plt.show()"
   ]
  },
  {
   "cell_type": "markdown",
   "id": "55ddb855-e613-43f4-8724-5fd18a853447",
   "metadata": {},
   "source": [
    "### VaR 1 day, using python quantile"
   ]
  },
  {
   "cell_type": "code",
   "execution_count": 43,
   "id": "e1842d4e-9dc2-4929-a215-120fcd0118f3",
   "metadata": {},
   "outputs": [
    {
     "name": "stdout",
     "output_type": "stream",
     "text": [
      "VaR 1 day $ 217.97104094571608\n"
     ]
    }
   ],
   "source": [
    "print( \"VaR 1 day $\",df[\"Portfolio loss\"].quantile(0.99))"
   ]
  },
  {
   "cell_type": "markdown",
   "id": "baba7626-8b5d-4dcb-b14a-17c81eeea68f",
   "metadata": {},
   "source": [
    "### VaR 1 day, manual counting"
   ]
  },
  {
   "cell_type": "code",
   "execution_count": 44,
   "id": "fd646a7a-8fea-4a06-aead-2d5651ace155",
   "metadata": {},
   "outputs": [
    {
     "name": "stdout",
     "output_type": "stream",
     "text": [
      "VaR 1 day $ 253.3445778480283\n"
     ]
    }
   ],
   "source": [
    "### Manually calculating, the 5th day loss (500 entries / 100 * 1 (percentile) = 5th day loss)\n",
    "dfvar = df.sort_values(by=\"Portfolio loss\", ascending=False)\n",
    "onepercentile = dfvar.reset_index(drop=True).loc[int(df.shape[0] / 100)-1 ,'Portfolio loss']\n",
    "print( \"VaR 1 day $\",onepercentile )"
   ]
  },
  {
   "cell_type": "markdown",
   "id": "15b44517-0e8b-41e5-86fe-d1bfe37bf530",
   "metadata": {},
   "source": [
    "### Fitting (?)"
   ]
  },
  {
   "cell_type": "markdown",
   "id": "6fbddf6a-6f55-4972-a571-f609d7c95c74",
   "metadata": {},
   "source": [
    "Fitting the loss profile with a normal distribution and calculating  $\\mu$, $\\sigma$ accurately, should give better estimate?\n",
    "\n",
    "This explored in the Covariance approach, where the mean, and sigma are calculated using the data. "
   ]
  },
  {
   "cell_type": "code",
   "execution_count": null,
   "id": "0aefcf71-68a7-4504-8c3d-74b7e770ff7e",
   "metadata": {},
   "outputs": [],
   "source": []
  },
  {
   "cell_type": "markdown",
   "id": "8911edde-cd9c-42c7-b87a-24928ba2de05",
   "metadata": {},
   "source": [
    "1 day VaR (1% CL) = $2.33 \\times \\sigma + \\mu$ \n",
    "\n",
    "\n",
    "1 day VaR (5% CL) = $1.64 \\times \\sigma + \\mu$ \n",
    "\n"
   ]
  },
  {
   "cell_type": "markdown",
   "id": "e249eef3-7b4b-4113-a1d5-b1171b07b444",
   "metadata": {},
   "source": [
    "### 10 day VaR"
   ]
  },
  {
   "cell_type": "markdown",
   "id": "c41c4bdf-8821-41cb-ba0d-1be72865b3b2",
   "metadata": {},
   "source": [
    "10 day VaR  = $\\sqrt 10 \\times $ 1 day VaR "
   ]
  },
  {
   "cell_type": "code",
   "execution_count": null,
   "id": "663a2037-e812-4c5c-a672-ce37eef70954",
   "metadata": {},
   "outputs": [],
   "source": []
  },
  {
   "cell_type": "raw",
   "id": "db955fa1-f57d-44af-88d7-c311c177bb83",
   "metadata": {},
   "source": [
    "## Method 2\n",
    "\n",
    "df.reset_index(inplace = True,  drop = True) # to safegurard to use the function\n",
    "df.loc[:, \"DJIA_return\"] = df.apply(lambda row: calculate_daily_return(row, df, \"DJIA\"), axis=1)\n",
    "df.loc[:, \"FTSE 100_return\"] = df.apply(lambda row: calculate_daily_return(row, df, \"FTSE 100\"), axis=1)\n",
    "df.loc[:, \"CAC 40_return\"] = df.apply(lambda row: calculate_daily_return(row, df, \"CAC 40\"), axis=1)\n",
    "df.loc[:, \"Nikkei 225_return\"] = df.apply(lambda row: calculate_daily_return(row, df, \"Nikkei 225\"), axis=1)\n",
    "\n",
    "def calculate_daily_loss(row, dataframe):\n",
    "        return - (row[\"DJIA_return\"] * 4000 + row[\"FTSE 100_return\"] * 3000 + row[\"CAC 40_return\"] * 1000 + row[\"Nikkei 225_return\"] * 2000)\n",
    "    \n",
    "df.loc[:, \"Portfolio loss\"] = df.apply(lambda row: calculate_daily_loss(row, df), axis=1)\n",
    "df.head()"
   ]
  },
  {
   "cell_type": "markdown",
   "id": "d31cc546-ebbe-4f88-82f2-aca8f4cd4969",
   "metadata": {},
   "source": [
    "# Covariance approach"
   ]
  },
  {
   "cell_type": "code",
   "execution_count": 84,
   "id": "2b466672-f39a-4b7b-bdd0-6d17752642ea",
   "metadata": {},
   "outputs": [],
   "source": [
    "Returns_df = df[[i+'_return' for i in list(stock_dict.keys())]].drop(index=0)\n",
    "Covariance_Matrix = Returns_df.cov()\n",
    "Correlation_Matrix  =Returns_df.corr() # for visualization"
   ]
  },
  {
   "cell_type": "code",
   "execution_count": 89,
   "id": "2a1acecb-af50-4b55-b0d6-234ddc8fb9a6",
   "metadata": {},
   "outputs": [],
   "source": [
    "import seaborn as sns"
   ]
  },
  {
   "cell_type": "code",
   "execution_count": 93,
   "id": "78a3762b-b81a-4c86-8fa0-2b99ccf76412",
   "metadata": {},
   "outputs": [
    {
     "data": {
      "text/html": [
       "<div>\n",
       "<style scoped>\n",
       "    .dataframe tbody tr th:only-of-type {\n",
       "        vertical-align: middle;\n",
       "    }\n",
       "\n",
       "    .dataframe tbody tr th {\n",
       "        vertical-align: top;\n",
       "    }\n",
       "\n",
       "    .dataframe thead th {\n",
       "        text-align: right;\n",
       "    }\n",
       "</style>\n",
       "<table border=\"1\" class=\"dataframe\">\n",
       "  <thead>\n",
       "    <tr style=\"text-align: right;\">\n",
       "      <th></th>\n",
       "      <th>DJIA_return</th>\n",
       "      <th>FTSE 100_return</th>\n",
       "      <th>CAC 40_return</th>\n",
       "      <th>Nikkei 225_return</th>\n",
       "    </tr>\n",
       "  </thead>\n",
       "  <tbody>\n",
       "    <tr>\n",
       "      <th>DJIA_return</th>\n",
       "      <td>1.000000</td>\n",
       "      <td>0.489106</td>\n",
       "      <td>0.495711</td>\n",
       "      <td>-0.061762</td>\n",
       "    </tr>\n",
       "    <tr>\n",
       "      <th>FTSE 100_return</th>\n",
       "      <td>0.489106</td>\n",
       "      <td>1.000000</td>\n",
       "      <td>0.918108</td>\n",
       "      <td>0.200939</td>\n",
       "    </tr>\n",
       "    <tr>\n",
       "      <th>CAC 40_return</th>\n",
       "      <td>0.495711</td>\n",
       "      <td>0.918108</td>\n",
       "      <td>1.000000</td>\n",
       "      <td>0.210859</td>\n",
       "    </tr>\n",
       "    <tr>\n",
       "      <th>Nikkei 225_return</th>\n",
       "      <td>-0.061762</td>\n",
       "      <td>0.200939</td>\n",
       "      <td>0.210859</td>\n",
       "      <td>1.000000</td>\n",
       "    </tr>\n",
       "  </tbody>\n",
       "</table>\n",
       "</div>"
      ],
      "text/plain": [
       "                   DJIA_return  FTSE 100_return  CAC 40_return  \\\n",
       "DJIA_return           1.000000         0.489106       0.495711   \n",
       "FTSE 100_return       0.489106         1.000000       0.918108   \n",
       "CAC 40_return         0.495711         0.918108       1.000000   \n",
       "Nikkei 225_return    -0.061762         0.200939       0.210859   \n",
       "\n",
       "                   Nikkei 225_return  \n",
       "DJIA_return                -0.061762  \n",
       "FTSE 100_return             0.200939  \n",
       "CAC 40_return               0.210859  \n",
       "Nikkei 225_return           1.000000  "
      ]
     },
     "execution_count": 93,
     "metadata": {},
     "output_type": "execute_result"
    }
   ],
   "source": [
    "Correlation_Matrix"
   ]
  },
  {
   "cell_type": "code",
   "execution_count": 95,
   "id": "c77ac3d3-73b1-4e9f-a477-5b93e00e1218",
   "metadata": {},
   "outputs": [
    {
     "data": {
      "text/plain": [
       "<AxesSubplot:>"
      ]
     },
     "execution_count": 95,
     "metadata": {},
     "output_type": "execute_result"
    },
    {
     "data": {
      "image/png": "[encoded data removed]",
      "text/plain": [
       "<Figure size 640x480 with 2 Axes>"
      ]
     },
     "metadata": {},
     "output_type": "display_data"
    }
   ],
   "source": [
    "sns.heatmap(Correlation_Matrix, annot=True)"
   ]
  },
  {
   "cell_type": "code",
   "execution_count": 86,
   "id": "0e0876d6-a081-476c-83de-70b7c75dfad0",
   "metadata": {},
   "outputs": [],
   "source": [
    "alpha = np.array([stock_dict[i] for i in stock_dict.keys()])"
   ]
  },
  {
   "cell_type": "code",
   "execution_count": 87,
   "id": "698ae416-2a57-4fa8-b5fd-d6c7f44ead1f",
   "metadata": {},
   "outputs": [
    {
     "name": "stdout",
     "output_type": "stream",
     "text": [
      "portfolio variance $ 8779.996911097678\n"
     ]
    }
   ],
   "source": [
    "Protfolio_variance = alpha.T.dot(Covariance_Matrix).dot(alpha)\n",
    "print(\"portfolio variance $\",Protfolio_variance)"
   ]
  },
  {
   "cell_type": "code",
   "execution_count": 88,
   "id": "2d1edfc1-8b89-43d8-b040-1526e20cac95",
   "metadata": {},
   "outputs": [
    {
     "name": "stdout",
     "output_type": "stream",
     "text": [
      "portfolio SD $ 93.70163771833275\n"
     ]
    }
   ],
   "source": [
    "Protfolio_Sigma = np.sqrt(Protfolio_variance)\n",
    "print(\"portfolio SD $\",Protfolio_Sigma)"
   ]
  },
  {
   "cell_type": "code",
   "execution_count": 98,
   "id": "419fcb8f-f31a-4ddd-8161-ea511e8e5c1a",
   "metadata": {},
   "outputs": [
    {
     "name": "stdout",
     "output_type": "stream",
     "text": [
      "Portfolio VaR, 1 day 218.3248158837153\n",
      "Portfolio VaR, 10 day 690.4036879294475\n"
     ]
    }
   ],
   "source": [
    "print(\"Portfolio VaR, 1 day\", Protfolio_Sigma * 2.33)\n",
    "print(\"Portfolio VaR, 10 day\", Protfolio_Sigma * 2.33 * np.sqrt(10))"
   ]
  },
  {
   "cell_type": "markdown",
   "id": "27c02616-5e13-43c0-91cf-38bd2792a88b",
   "metadata": {},
   "source": [
    "## Portfolio management, different scenario"
   ]
  },
  {
   "cell_type": "markdown",
   "id": "692ec6e9-b7fa-4496-8a87-d95d6864200e",
   "metadata": {},
   "source": [
    "### only investing to the first stock DJIA"
   ]
  },
  {
   "cell_type": "code",
   "execution_count": 142,
   "id": "151dc978-6abc-4f5f-abd7-6659a663f9d5",
   "metadata": {},
   "outputs": [],
   "source": [
    "alpha_other = np.array([10000,0,0,0]) # "
   ]
  },
  {
   "cell_type": "code",
   "execution_count": 143,
   "id": "25294db6-8aee-4f39-968c-5bbf5a603888",
   "metadata": {},
   "outputs": [
    {
     "name": "stdout",
     "output_type": "stream",
     "text": [
      "portfolio variance $ 12295.243760724265\n",
      "portfolio SD $ 110.88392020813598\n",
      "Portfolio VaR, 1 day 258.3595340849568\n",
      "Portfolio VaR, 10 day 817.0045829283699\n"
     ]
    }
   ],
   "source": [
    "Protfolio_variance = alpha_other.T.dot(Covariance_Matrix).dot(alpha_other)\n",
    "print(\"portfolio variance $\",Protfolio_variance)\n",
    "\n",
    "Protfolio_Sigma = np.sqrt(Protfolio_variance)\n",
    "print(\"portfolio SD $\",Protfolio_Sigma)\n",
    "\n",
    "print(\"Portfolio VaR, 1 day\", Protfolio_Sigma * 2.33)\n",
    "print(\"Portfolio VaR, 10 day\", Protfolio_Sigma * 2.33 * np.sqrt(10))"
   ]
  },
  {
   "cell_type": "markdown",
   "id": "62fcf1a8-8f37-4bde-b099-195ed046b21c",
   "metadata": {},
   "source": [
    "### Equally investing to the all four stocks"
   ]
  },
  {
   "cell_type": "code",
   "execution_count": 144,
   "id": "855f99f9-9b5a-4e50-9a57-54527f106d9a",
   "metadata": {},
   "outputs": [],
   "source": [
    "alpha_other = np.array([2500,2500,2500,2500]) # "
   ]
  },
  {
   "cell_type": "code",
   "execution_count": 145,
   "id": "51ae8325-a7f1-4b6d-9ba5-d1003a101a2b",
   "metadata": {},
   "outputs": [
    {
     "name": "stdout",
     "output_type": "stream",
     "text": [
      "portfolio variance $ 9527.286568669744\n",
      "portfolio SD $ 97.60782022291936\n",
      "Portfolio VaR, 1 day 227.4262211194021\n",
      "Portfolio VaR, 10 day 719.1848583823994\n"
     ]
    }
   ],
   "source": [
    "Protfolio_variance = alpha_other.T.dot(Covariance_Matrix).dot(alpha_other)\n",
    "print(\"portfolio variance $\",Protfolio_variance)\n",
    "\n",
    "Protfolio_Sigma = np.sqrt(Protfolio_variance)\n",
    "print(\"portfolio SD $\",Protfolio_Sigma)\n",
    "\n",
    "print(\"Portfolio VaR, 1 day\", Protfolio_Sigma * 2.33)\n",
    "print(\"Portfolio VaR, 10 day\", Protfolio_Sigma * 2.33 * np.sqrt(10))"
   ]
  },
  {
   "cell_type": "markdown",
   "id": "e6c77467-7a3a-4a68-9d2d-b2e9bafd5570",
   "metadata": {},
   "source": [
    "### Optimized portfolio (My thought + chatgpt)"
   ]
  },
  {
   "cell_type": "markdown",
   "id": "6b9c419c-1cc3-47b2-89cf-ba923e376b54",
   "metadata": {},
   "source": [
    "The portfolio variance is $\\alpha^{T} . \\Sigma . \\alpha $, now we have $\\Sigma$ the covariance matrix, lets minimize the variance"
   ]
  },
  {
   "cell_type": "code",
   "execution_count": 134,
   "id": "798e6b1f-d053-413c-8e38-e10fc1ad25c0",
   "metadata": {},
   "outputs": [
    {
     "name": "stdout",
     "output_type": "stream",
     "text": [
      "Optimal Weights: [0.55923129 0.03777656 0.02307912 0.37991304]\n"
     ]
    }
   ],
   "source": [
    "import cvxpy as cp\n",
    "import numpy as np\n",
    "\n",
    "# Define data\n",
    "cov_matrix = Covariance_Matrix\n",
    "expected_returns = np.array([0.8, 0.4, 0.5, 0.6])\n",
    "target_return = 0.05\n",
    "\n",
    "# Define variables\n",
    "w = cp.Variable(len(expected_returns))\n",
    "\n",
    "# Define objective function\n",
    "objective = cp.Minimize(cp.quad_form(w, cov_matrix))\n",
    "\n",
    "\n",
    "# Define constraints\n",
    "constraints = [w @ expected_returns >= target_return, cp.sum(w) == 1, w >= 0]\n",
    "\n",
    "\n",
    "# Solve the problem\n",
    "problem = cp.Problem(objective, constraints)\n",
    "problem.solve()\n",
    "\n",
    "\n",
    "# Optimal weights\n",
    "optimal_weights = w.value\n",
    "print(\"Optimal Weights:\", optimal_weights)\n",
    "\n"
   ]
  },
  {
   "cell_type": "code",
   "execution_count": 137,
   "id": "e1340aa8-6ef0-4b1f-be54-ddb2f3b73795",
   "metadata": {},
   "outputs": [],
   "source": [
    "alpha_optimized = 10000 * np.array(optimal_weights)"
   ]
  },
  {
   "cell_type": "code",
   "execution_count": 141,
   "id": "be512a7f-dc29-4446-bd1f-1e2f4f49bfc3",
   "metadata": {},
   "outputs": [
    {
     "name": "stdout",
     "output_type": "stream",
     "text": [
      "portfolio variance $ 6984.007069806232\n",
      "portfolio SD $ 83.57037196163621\n",
      "Portfolio VaR, 1 day 194.7189666706124\n",
      "Portfolio VaR, 10 day 615.7554383135488\n"
     ]
    }
   ],
   "source": [
    "Protfolio_variance = alpha_optimized.T.dot(Covariance_Matrix).dot(alpha_optimized)\n",
    "print(\"portfolio variance $\",Protfolio_variance)\n",
    "\n",
    "Protfolio_Sigma = np.sqrt(Protfolio_variance)\n",
    "print(\"portfolio SD $\",Protfolio_Sigma)\n",
    "\n",
    "print(\"Portfolio VaR, 1 day\", Protfolio_Sigma * 2.33)\n",
    "print(\"Portfolio VaR, 10 day\", Protfolio_Sigma * 2.33 * np.sqrt(10))"
   ]
  },
  {
   "cell_type": "markdown",
   "id": "948ff6f2-42c0-453b-82b5-a21f18b3c9c9",
   "metadata": {},
   "source": [
    "## Pricipal component"
   ]
  },
  {
   "cell_type": "code",
   "execution_count": 150,
   "id": "46025d7e-01b8-4a9d-af3e-e8bb8e6adf64",
   "metadata": {},
   "outputs": [],
   "source": [
    "eigenvalues, eigenvectors = np.linalg.eigh(Covariance_Matrix)\n",
    "indices = np.argsort(eigenvalues)[::-1]\n",
    "\n",
    "eigenvalues = eigenvalues[indices]\n",
    "eigenvectors = eigenvectors[:,indices]"
   ]
  },
  {
   "cell_type": "code",
   "execution_count": 151,
   "id": "e7bb010c-57da-4291-b4f2-69ccef3e0018",
   "metadata": {},
   "outputs": [
    {
     "data": {
      "text/plain": [
       "array([4.30825429e-04, 1.88269689e-04, 7.57686301e-05, 1.62143300e-05])"
      ]
     },
     "execution_count": 151,
     "metadata": {},
     "output_type": "execute_result"
    }
   ],
   "source": [
    "eigenvalues"
   ]
  },
  {
   "cell_type": "code",
   "execution_count": 152,
   "id": "b48968a5-0f26-4709-81e3-23ad9fd67b7d",
   "metadata": {},
   "outputs": [
    {
     "data": {
      "text/plain": [
       "array([[-0.32023065, -0.30964098,  0.89518739, -0.01464004],\n",
       "       [-0.65826808, -0.0783234 , -0.27396557, -0.69677217],\n",
       "       [-0.64927859, -0.06823369, -0.24413775,  0.71706223],\n",
       "       [-0.20633172,  0.94516246,  0.25294103, -0.01076949]])"
      ]
     },
     "execution_count": 152,
     "metadata": {},
     "output_type": "execute_result"
    }
   ],
   "source": [
    "eigenvectors"
   ]
  },
  {
   "cell_type": "markdown",
   "id": "2c7d306b-fe49-433e-9804-cef087dc9cf3",
   "metadata": {},
   "source": [
    "what to do with negative values? Positive symetrix matrix, why not positive eigenvector?"
   ]
  },
  {
   "cell_type": "markdown",
   "id": "21d7039d-c810-4eb4-9732-089fd0f6b1e8",
   "metadata": {
    "tags": []
   },
   "source": [
    "# Monte Carlo Simulation"
   ]
  },
  {
   "cell_type": "code",
   "execution_count": null,
   "id": "414405a6-90f1-4923-81ae-8dab0726c26e",
   "metadata": {},
   "outputs": [],
   "source": []
  },
  {
   "cell_type": "code",
   "execution_count": null,
   "id": "edbecf73-7b1d-4fef-9350-35eaf2710072",
   "metadata": {},
   "outputs": [],
   "source": []
  },
  {
   "cell_type": "code",
   "execution_count": null,
   "id": "d3d6e073-948f-4840-9992-876f5f8422f8",
   "metadata": {},
   "outputs": [],
   "source": []
  },
  {
   "cell_type": "code",
   "execution_count": null,
   "id": "013595fc-b690-4c62-8593-f6262d1d7b19",
   "metadata": {},
   "outputs": [],
   "source": []
  },
  {
   "cell_type": "code",
   "execution_count": null,
   "id": "48a08f9a-f940-42cd-bfe7-5ed5011150af",
   "metadata": {},
   "outputs": [],
   "source": []
  },
  {
   "cell_type": "markdown",
   "id": "7e52d5eb-8803-471f-982a-af97a8108de2",
   "metadata": {},
   "source": [
    "# Resources\n",
    "\n",
    "* A good recourse: [link](https://blog.quantinsti.com/calculating-covariance-matrix-portfolio-variance/)"
   ]
  },
  {
   "cell_type": "code",
   "execution_count": null,
   "id": "9c83d7bc-8731-43b3-8851-d024c9d73ae5",
   "metadata": {},
   "outputs": [],
   "source": []
  }
 ],
 "metadata": {
  "kernelspec": {
   "display_name": "Python 3 (ipykernel)",
   "language": "python",
   "name": "python3"
  },
  "language_info": {
   "codemirror_mode": {
    "name": "ipython",
    "version": 3
   },
   "file_extension": ".py",
   "mimetype": "text/x-python",
   "name": "python",
   "nbconvert_exporter": "python",
   "pygments_lexer": "ipython3",
   "version": "3.9.12"
  }
 },
 "nbformat": 4,
 "nbformat_minor": 5
}
