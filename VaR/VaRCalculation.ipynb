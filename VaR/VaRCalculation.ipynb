{
 "cells": [
  {
   "cell_type": "code",
   "execution_count": 1,
   "id": "da16e553-5248-4b33-b199-3b5fb3f32200",
   "metadata": {},
   "outputs": [],
   "source": [
    "# importing the libraries\n",
    "import pandas as pd\n",
    "import matplotlib.pyplot as plt"
   ]
  },
  {
   "cell_type": "code",
   "execution_count": null,
   "id": "1088ef7d-5576-4675-baf9-cd3cf0984aa8",
   "metadata": {},
   "outputs": [],
   "source": []
  },
  {
   "cell_type": "markdown",
   "id": "a0fcbab7-e3e1-41ac-a33a-9f8d936f8ec5",
   "metadata": {},
   "source": [
    "# Data\n",
    "\n",
    "The data has been downloaded from the website:"
   ]
  },
  {
   "cell_type": "code",
   "execution_count": 2,
   "id": "43718817-b84c-4e50-acf4-bb7143a84baf",
   "metadata": {},
   "outputs": [],
   "source": [
    "# importting the data\n",
    "df = pd.read_csv(\"Data/Data.csv\")"
   ]
  },
  {
   "cell_type": "code",
   "execution_count": 3,
   "id": "da05463f-17eb-4668-807d-f81990f1f63b",
   "metadata": {},
   "outputs": [
    {
     "data": {
      "text/html": [
       "<div>\n",
       "<style scoped>\n",
       "    .dataframe tbody tr th:only-of-type {\n",
       "        vertical-align: middle;\n",
       "    }\n",
       "\n",
       "    .dataframe tbody tr th {\n",
       "        vertical-align: top;\n",
       "    }\n",
       "\n",
       "    .dataframe thead th {\n",
       "        text-align: right;\n",
       "    }\n",
       "</style>\n",
       "<table border=\"1\" class=\"dataframe\">\n",
       "  <thead>\n",
       "    <tr style=\"text-align: right;\">\n",
       "      <th></th>\n",
       "      <th>Day</th>\n",
       "      <th>Date</th>\n",
       "      <th>DJIA</th>\n",
       "      <th>FTSE 100</th>\n",
       "      <th>CAC 40</th>\n",
       "      <th>Nikkei 225</th>\n",
       "    </tr>\n",
       "  </thead>\n",
       "  <tbody>\n",
       "    <tr>\n",
       "      <th>0</th>\n",
       "      <td>0</td>\n",
       "      <td>07/08/2006</td>\n",
       "      <td>11219.38</td>\n",
       "      <td>11131.84</td>\n",
       "      <td>6373.89</td>\n",
       "      <td>131.77</td>\n",
       "    </tr>\n",
       "    <tr>\n",
       "      <th>1</th>\n",
       "      <td>1</td>\n",
       "      <td>08/08/2006</td>\n",
       "      <td>11173.59</td>\n",
       "      <td>11096.28</td>\n",
       "      <td>6378.16</td>\n",
       "      <td>134.38</td>\n",
       "    </tr>\n",
       "    <tr>\n",
       "      <th>2</th>\n",
       "      <td>2</td>\n",
       "      <td>09/08/2006</td>\n",
       "      <td>11076.18</td>\n",
       "      <td>11185.35</td>\n",
       "      <td>6474.04</td>\n",
       "      <td>135.94</td>\n",
       "    </tr>\n",
       "    <tr>\n",
       "      <th>3</th>\n",
       "      <td>3</td>\n",
       "      <td>10/08/2006</td>\n",
       "      <td>11124.37</td>\n",
       "      <td>11016.71</td>\n",
       "      <td>6357.49</td>\n",
       "      <td>135.44</td>\n",
       "    </tr>\n",
       "    <tr>\n",
       "      <th>4</th>\n",
       "      <td>4</td>\n",
       "      <td>11/08/2006</td>\n",
       "      <td>11088.02</td>\n",
       "      <td>11040.73</td>\n",
       "      <td>6364.76</td>\n",
       "      <td>134.10</td>\n",
       "    </tr>\n",
       "  </tbody>\n",
       "</table>\n",
       "</div>"
      ],
      "text/plain": [
       "   Day        Date      DJIA  FTSE 100   CAC 40  Nikkei 225\n",
       "0    0  07/08/2006  11219.38  11131.84  6373.89      131.77\n",
       "1    1  08/08/2006  11173.59  11096.28  6378.16      134.38\n",
       "2    2  09/08/2006  11076.18  11185.35  6474.04      135.94\n",
       "3    3  10/08/2006  11124.37  11016.71  6357.49      135.44\n",
       "4    4  11/08/2006  11088.02  11040.73  6364.76      134.10"
      ]
     },
     "execution_count": 3,
     "metadata": {},
     "output_type": "execute_result"
    }
   ],
   "source": [
    "# showing some entries\n",
    "df.head()"
   ]
  },
  {
   "cell_type": "code",
   "execution_count": 4,
   "id": "039f6adb-91e0-415e-bba7-f74ed50efa98",
   "metadata": {},
   "outputs": [
    {
     "data": {
      "text/plain": [
       "Day             int64\n",
       "Date           object\n",
       "DJIA          float64\n",
       "FTSE 100      float64\n",
       "CAC 40        float64\n",
       "Nikkei 225    float64\n",
       "dtype: object"
      ]
     },
     "execution_count": 4,
     "metadata": {},
     "output_type": "execute_result"
    }
   ],
   "source": [
    "df.dtypes"
   ]
  },
  {
   "cell_type": "markdown",
   "id": "8391410e-56ab-42f1-bb09-dbf9a6b9ebb2",
   "metadata": {},
   "source": [
    "Investment portfolio\n",
    "\n",
    "Index | Portfolio value\n",
    "------|---------------\n",
    "DJIA   | 4000\n",
    "FTSE   | 3000\n",
    "CAC 40 | 1000\n",
    "Nikkei 225 | 2000\n",
    "Total  | 10000"
   ]
  },
  {
   "cell_type": "code",
   "execution_count": 5,
   "id": "ac9db582-3ab4-4928-bcfe-6a75a3df0222",
   "metadata": {},
   "outputs": [],
   "source": [
    "investment_instock = [4000, 3000, 1000, 2000]"
   ]
  },
  {
   "cell_type": "markdown",
   "id": "80b088e1-4ffb-425c-9fc1-432384379e72",
   "metadata": {},
   "source": [
    "# Historical approach"
   ]
  },
  {
   "cell_type": "code",
   "execution_count": 6,
   "id": "631b8656-5256-45d6-bc0e-5719177aab36",
   "metadata": {},
   "outputs": [
    {
     "data": {
      "text/plain": [
       "['Day', 'Date', 'DJIA', 'FTSE 100', 'CAC 40', 'Nikkei 225']"
      ]
     },
     "execution_count": 6,
     "metadata": {},
     "output_type": "execute_result"
    }
   ],
   "source": [
    "df.columns.tolist()"
   ]
  },
  {
   "cell_type": "code",
   "execution_count": 7,
   "id": "05a14735-594b-45f9-9159-d6bb99020a71",
   "metadata": {},
   "outputs": [
    {
     "data": {
      "text/plain": [
       "['DJIA', 'FTSE 100', 'CAC 40', 'Nikkei 225']"
      ]
     },
     "execution_count": 7,
     "metadata": {},
     "output_type": "execute_result"
    }
   ],
   "source": [
    "# list down the stock names (here first two columns are Day and Date, so removing that give you stock list)\n",
    "stocklist =df.columns.tolist()[2:]\n",
    "stocklist"
   ]
  },
  {
   "cell_type": "code",
   "execution_count": 8,
   "id": "2b650a99-164b-4ad0-bd57-6707b05857ca",
   "metadata": {},
   "outputs": [
    {
     "name": "stdout",
     "output_type": "stream",
     "text": [
      "Stock Investment\n",
      "DJIA ->  $ 4000\n",
      "FTSE 100 ->  $ 3000\n",
      "CAC 40 ->  $ 1000\n",
      "Nikkei 225 ->  $ 2000\n"
     ]
    }
   ],
   "source": [
    "stock_dict = {}\n",
    "print('Stock', 'Investment')\n",
    "for st, inv in zip(stocklist, investment_instock):\n",
    "    stock_dict[st] = inv\n",
    "    print(st,'-> ', '$',inv)"
   ]
  },
  {
   "cell_type": "code",
   "execution_count": 9,
   "id": "ddad5f42-b642-4cb6-8722-89eb0d4b8c28",
   "metadata": {},
   "outputs": [
    {
     "data": {
      "text/plain": [
       "{'DJIA': 4000, 'FTSE 100': 3000, 'CAC 40': 1000, 'Nikkei 225': 2000}"
      ]
     },
     "execution_count": 9,
     "metadata": {},
     "output_type": "execute_result"
    }
   ],
   "source": [
    "# populated a dictionary with stock and investment\n",
    "stock_dict"
   ]
  },
  {
   "cell_type": "code",
   "execution_count": 10,
   "id": "2d212054-1bb3-4cce-b4da-6a67491929ef",
   "metadata": {},
   "outputs": [
    {
     "data": {
      "text/html": [
       "<div>\n",
       "<style scoped>\n",
       "    .dataframe tbody tr th:only-of-type {\n",
       "        vertical-align: middle;\n",
       "    }\n",
       "\n",
       "    .dataframe tbody tr th {\n",
       "        vertical-align: top;\n",
       "    }\n",
       "\n",
       "    .dataframe thead th {\n",
       "        text-align: right;\n",
       "    }\n",
       "</style>\n",
       "<table border=\"1\" class=\"dataframe\">\n",
       "  <thead>\n",
       "    <tr style=\"text-align: right;\">\n",
       "      <th></th>\n",
       "      <th>Day</th>\n",
       "      <th>Date</th>\n",
       "      <th>DJIA</th>\n",
       "      <th>FTSE 100</th>\n",
       "      <th>CAC 40</th>\n",
       "      <th>Nikkei 225</th>\n",
       "    </tr>\n",
       "  </thead>\n",
       "  <tbody>\n",
       "    <tr>\n",
       "      <th>0</th>\n",
       "      <td>0</td>\n",
       "      <td>07/08/2006</td>\n",
       "      <td>11219.38</td>\n",
       "      <td>11131.84</td>\n",
       "      <td>6373.89</td>\n",
       "      <td>131.77</td>\n",
       "    </tr>\n",
       "    <tr>\n",
       "      <th>1</th>\n",
       "      <td>1</td>\n",
       "      <td>08/08/2006</td>\n",
       "      <td>11173.59</td>\n",
       "      <td>11096.28</td>\n",
       "      <td>6378.16</td>\n",
       "      <td>134.38</td>\n",
       "    </tr>\n",
       "    <tr>\n",
       "      <th>2</th>\n",
       "      <td>2</td>\n",
       "      <td>09/08/2006</td>\n",
       "      <td>11076.18</td>\n",
       "      <td>11185.35</td>\n",
       "      <td>6474.04</td>\n",
       "      <td>135.94</td>\n",
       "    </tr>\n",
       "    <tr>\n",
       "      <th>3</th>\n",
       "      <td>3</td>\n",
       "      <td>10/08/2006</td>\n",
       "      <td>11124.37</td>\n",
       "      <td>11016.71</td>\n",
       "      <td>6357.49</td>\n",
       "      <td>135.44</td>\n",
       "    </tr>\n",
       "    <tr>\n",
       "      <th>4</th>\n",
       "      <td>4</td>\n",
       "      <td>11/08/2006</td>\n",
       "      <td>11088.02</td>\n",
       "      <td>11040.73</td>\n",
       "      <td>6364.76</td>\n",
       "      <td>134.10</td>\n",
       "    </tr>\n",
       "  </tbody>\n",
       "</table>\n",
       "</div>"
      ],
      "text/plain": [
       "   Day        Date      DJIA  FTSE 100   CAC 40  Nikkei 225\n",
       "0    0  07/08/2006  11219.38  11131.84  6373.89      131.77\n",
       "1    1  08/08/2006  11173.59  11096.28  6378.16      134.38\n",
       "2    2  09/08/2006  11076.18  11185.35  6474.04      135.94\n",
       "3    3  10/08/2006  11124.37  11016.71  6357.49      135.44\n",
       "4    4  11/08/2006  11088.02  11040.73  6364.76      134.10"
      ]
     },
     "execution_count": 10,
     "metadata": {},
     "output_type": "execute_result"
    }
   ],
   "source": [
    "df.head(5)"
   ]
  },
  {
   "cell_type": "markdown",
   "id": "3c1feb8d-8eb0-4604-96de-906b5293eb63",
   "metadata": {},
   "source": [
    "## Implemented exactly like John.C.Hull book"
   ]
  },
  {
   "cell_type": "code",
   "execution_count": 11,
   "id": "d745900c-0f47-4868-8a90-cc5567e14a13",
   "metadata": {},
   "outputs": [
    {
     "data": {
      "text/html": [
       "<div>\n",
       "<style scoped>\n",
       "    .dataframe tbody tr th:only-of-type {\n",
       "        vertical-align: middle;\n",
       "    }\n",
       "\n",
       "    .dataframe tbody tr th {\n",
       "        vertical-align: top;\n",
       "    }\n",
       "\n",
       "    .dataframe thead th {\n",
       "        text-align: right;\n",
       "    }\n",
       "</style>\n",
       "<table border=\"1\" class=\"dataframe\">\n",
       "  <thead>\n",
       "    <tr style=\"text-align: right;\">\n",
       "      <th></th>\n",
       "      <th>Scenario</th>\n",
       "      <th>DJIA</th>\n",
       "      <th>FTSE 100</th>\n",
       "      <th>CAC 40</th>\n",
       "      <th>Nikkei 225</th>\n",
       "      <th>Portfolio value</th>\n",
       "      <th>Portfolio loss</th>\n",
       "    </tr>\n",
       "  </thead>\n",
       "  <tbody>\n",
       "    <tr>\n",
       "      <th>1</th>\n",
       "      <td>1</td>\n",
       "      <td>10977.075328</td>\n",
       "      <td>9569.233691</td>\n",
       "      <td>6204.553775</td>\n",
       "      <td>115.054653</td>\n",
       "      <td>10014.375756</td>\n",
       "      <td>-14.375756</td>\n",
       "    </tr>\n",
       "    <tr>\n",
       "      <th>2</th>\n",
       "      <td>2</td>\n",
       "      <td>10925.971020</td>\n",
       "      <td>9676.958536</td>\n",
       "      <td>6293.607814</td>\n",
       "      <td>114.129713</td>\n",
       "      <td>10027.459819</td>\n",
       "      <td>-27.459819</td>\n",
       "    </tr>\n",
       "    <tr>\n",
       "      <th>3</th>\n",
       "      <td>3</td>\n",
       "      <td>11070.014536</td>\n",
       "      <td>9455.163614</td>\n",
       "      <td>6088.776250</td>\n",
       "      <td>112.405038</td>\n",
       "      <td>9946.813664</td>\n",
       "      <td>53.186336</td>\n",
       "    </tr>\n",
       "    <tr>\n",
       "      <th>4</th>\n",
       "      <td>4</td>\n",
       "      <td>10986.044308</td>\n",
       "      <td>9620.830895</td>\n",
       "      <td>6207.490362</td>\n",
       "      <td>111.703795</td>\n",
       "      <td>9974.826743</td>\n",
       "      <td>25.173257</td>\n",
       "    </tr>\n",
       "    <tr>\n",
       "      <th>5</th>\n",
       "      <td>5</td>\n",
       "      <td>11031.851405</td>\n",
       "      <td>9659.695423</td>\n",
       "      <td>6265.582154</td>\n",
       "      <td>114.561517</td>\n",
       "      <td>10063.624705</td>\n",
       "      <td>-63.624705</td>\n",
       "    </tr>\n",
       "  </tbody>\n",
       "</table>\n",
       "</div>"
      ],
      "text/plain": [
       "   Scenario          DJIA     FTSE 100       CAC 40  Nikkei 225  \\\n",
       "1         1  10977.075328  9569.233691  6204.553775  115.054653   \n",
       "2         2  10925.971020  9676.958536  6293.607814  114.129713   \n",
       "3         3  11070.014536  9455.163614  6088.776250  112.405038   \n",
       "4         4  10986.044308  9620.830895  6207.490362  111.703795   \n",
       "5         5  11031.851405  9659.695423  6265.582154  114.561517   \n",
       "\n",
       "   Portfolio value  Portfolio loss  \n",
       "1     10014.375756      -14.375756  \n",
       "2     10027.459819      -27.459819  \n",
       "3      9946.813664       53.186336  \n",
       "4      9974.826743       25.173257  \n",
       "5     10063.624705      -63.624705  "
      ]
     },
     "execution_count": 11,
     "metadata": {},
     "output_type": "execute_result"
    }
   ],
   "source": [
    "def calibrate_lastday(row, dataframe, colname):\n",
    "    if row.name == 0:\n",
    "        return 0 # for the first column\n",
    "                # A warning to use: the first row must be with index 0, which might not always the case so use `reset_index` to safeguard this \n",
    "    else:\n",
    "        return (row[colname] / dataframe.at[row.name - 1, colname]) *   dataframe.at[500, colname]\n",
    "\n",
    "df1 = df.copy()\n",
    "df1.rename(columns={'Day': 'Scenario'},inplace=True)\n",
    "df1.drop(columns=['Date'], inplace=True)\n",
    "\n",
    "for st in stocklist:\n",
    "    df1.loc[:, st] = df.apply(lambda row: calibrate_lastday(row, df1, st), axis=1)\n",
    "df1.drop(index=0, inplace=True)\n",
    "df1.loc[:, \"Portfolio value\"] = 4000 * df1[\"DJIA\"]/df.at[500, \"DJIA\"] + 3000 * df1[\"FTSE 100\"]/df.at[500, \"FTSE 100\"] +\\\n",
    "                               1000 * df1[\"CAC 40\"]/df.at[500, \"CAC 40\"] + 2000 * df1[\"Nikkei 225\"]/df.at[500, \"Nikkei 225\"]\n",
    "df1[\"Portfolio loss\"] = 10000 -  df1[\"Portfolio value\"]\n",
    "df1.head(5)"
   ]
  },
  {
   "cell_type": "markdown",
   "id": "a8459a59-9eed-43aa-b6a2-1392dfbefae5",
   "metadata": {},
   "source": [
    "It is not matching exactly digit by digit because of the calculation is done in the final state, which  gives round off disagreement w.r.t earlier"
   ]
  },
  {
   "cell_type": "code",
   "execution_count": null,
   "id": "ea4566e8-05eb-403c-946c-131431aff914",
   "metadata": {},
   "outputs": [],
   "source": []
  },
  {
   "cell_type": "markdown",
   "id": "fa967caf-6b9b-48ab-a96c-3822c9c7fad1",
   "metadata": {},
   "source": [
    "## Simpler approach"
   ]
  },
  {
   "cell_type": "code",
   "execution_count": 12,
   "id": "55adfdd8-ec69-49bc-8578-3d627271cbb5",
   "metadata": {},
   "outputs": [
    {
     "data": {
      "text/html": [
       "<div>\n",
       "<style scoped>\n",
       "    .dataframe tbody tr th:only-of-type {\n",
       "        vertical-align: middle;\n",
       "    }\n",
       "\n",
       "    .dataframe tbody tr th {\n",
       "        vertical-align: top;\n",
       "    }\n",
       "\n",
       "    .dataframe thead th {\n",
       "        text-align: right;\n",
       "    }\n",
       "</style>\n",
       "<table border=\"1\" class=\"dataframe\">\n",
       "  <thead>\n",
       "    <tr style=\"text-align: right;\">\n",
       "      <th></th>\n",
       "      <th>Day</th>\n",
       "      <th>Date</th>\n",
       "      <th>DJIA</th>\n",
       "      <th>FTSE 100</th>\n",
       "      <th>CAC 40</th>\n",
       "      <th>Nikkei 225</th>\n",
       "      <th>DJIA_return</th>\n",
       "      <th>FTSE 100_return</th>\n",
       "      <th>CAC 40_return</th>\n",
       "      <th>Nikkei 225_return</th>\n",
       "      <th>Portfolio loss</th>\n",
       "    </tr>\n",
       "  </thead>\n",
       "  <tbody>\n",
       "    <tr>\n",
       "      <th>0</th>\n",
       "      <td>0</td>\n",
       "      <td>07/08/2006</td>\n",
       "      <td>11219.38</td>\n",
       "      <td>11131.84</td>\n",
       "      <td>6373.89</td>\n",
       "      <td>131.77</td>\n",
       "      <td>0.000000</td>\n",
       "      <td>0.000000</td>\n",
       "      <td>0.000000</td>\n",
       "      <td>0.000000</td>\n",
       "      <td>0.000000</td>\n",
       "    </tr>\n",
       "    <tr>\n",
       "      <th>1</th>\n",
       "      <td>1</td>\n",
       "      <td>08/08/2006</td>\n",
       "      <td>11173.59</td>\n",
       "      <td>11096.28</td>\n",
       "      <td>6378.16</td>\n",
       "      <td>134.38</td>\n",
       "      <td>-0.004081</td>\n",
       "      <td>-0.003194</td>\n",
       "      <td>0.000670</td>\n",
       "      <td>0.019807</td>\n",
       "      <td>-14.375756</td>\n",
       "    </tr>\n",
       "    <tr>\n",
       "      <th>2</th>\n",
       "      <td>2</td>\n",
       "      <td>09/08/2006</td>\n",
       "      <td>11076.18</td>\n",
       "      <td>11185.35</td>\n",
       "      <td>6474.04</td>\n",
       "      <td>135.94</td>\n",
       "      <td>-0.008718</td>\n",
       "      <td>0.008027</td>\n",
       "      <td>0.015033</td>\n",
       "      <td>0.011609</td>\n",
       "      <td>-27.459819</td>\n",
       "    </tr>\n",
       "    <tr>\n",
       "      <th>3</th>\n",
       "      <td>3</td>\n",
       "      <td>10/08/2006</td>\n",
       "      <td>11124.37</td>\n",
       "      <td>11016.71</td>\n",
       "      <td>6357.49</td>\n",
       "      <td>135.44</td>\n",
       "      <td>0.004351</td>\n",
       "      <td>-0.015077</td>\n",
       "      <td>-0.018003</td>\n",
       "      <td>-0.003678</td>\n",
       "      <td>53.186336</td>\n",
       "    </tr>\n",
       "    <tr>\n",
       "      <th>4</th>\n",
       "      <td>4</td>\n",
       "      <td>11/08/2006</td>\n",
       "      <td>11088.02</td>\n",
       "      <td>11040.73</td>\n",
       "      <td>6364.76</td>\n",
       "      <td>134.10</td>\n",
       "      <td>-0.003268</td>\n",
       "      <td>0.002180</td>\n",
       "      <td>0.001144</td>\n",
       "      <td>-0.009894</td>\n",
       "      <td>25.173257</td>\n",
       "    </tr>\n",
       "  </tbody>\n",
       "</table>\n",
       "</div>"
      ],
      "text/plain": [
       "   Day        Date      DJIA  FTSE 100   CAC 40  Nikkei 225  DJIA_return  \\\n",
       "0    0  07/08/2006  11219.38  11131.84  6373.89      131.77     0.000000   \n",
       "1    1  08/08/2006  11173.59  11096.28  6378.16      134.38    -0.004081   \n",
       "2    2  09/08/2006  11076.18  11185.35  6474.04      135.94    -0.008718   \n",
       "3    3  10/08/2006  11124.37  11016.71  6357.49      135.44     0.004351   \n",
       "4    4  11/08/2006  11088.02  11040.73  6364.76      134.10    -0.003268   \n",
       "\n",
       "   FTSE 100_return  CAC 40_return  Nikkei 225_return  Portfolio loss  \n",
       "0         0.000000       0.000000           0.000000        0.000000  \n",
       "1        -0.003194       0.000670           0.019807      -14.375756  \n",
       "2         0.008027       0.015033           0.011609      -27.459819  \n",
       "3        -0.015077      -0.018003          -0.003678       53.186336  \n",
       "4         0.002180       0.001144          -0.009894       25.173257  "
      ]
     },
     "execution_count": 12,
     "metadata": {},
     "output_type": "execute_result"
    }
   ],
   "source": [
    "## Method 1\n",
    "def calculate_daily_return(row, dataframe, colname):\n",
    "    if row.name == 0:\n",
    "        return 0 # for the first column\n",
    "                # A warning to use: the first row must be with index 0, which might not always the case so use `reset_index` to safeguard this \n",
    "    else:\n",
    "        return row[colname] / dataframe.at[row.name - 1, colname] -1\n",
    "\n",
    "df.reset_index(inplace = True,  drop = True) # to safegurard to use the function `calculate_daily_return`\n",
    "for key in stock_dict:\n",
    "    df.loc[:, key+\"_return\"] = df.apply(lambda row: calculate_daily_return(row, df, key), axis=1)\n",
    "\n",
    "def calculate_daily_loss(row, dataframe):\n",
    "    total = 0\n",
    "    for key in stock_dict:\n",
    "        total += -row[key+'_return'] * stock_dict[key]\n",
    "    return total\n",
    "\n",
    "df.loc[:, \"Portfolio loss\"] = df.apply(lambda row: calculate_daily_loss(row, df), axis=1)\n",
    "df.head()"
   ]
  },
  {
   "cell_type": "code",
   "execution_count": 13,
   "id": "497f3ba2-56ad-4399-82ba-79b944bfd332",
   "metadata": {},
   "outputs": [
    {
     "data": {
      "image/png": "[encoded data removed]",
      "text/plain": [
       "<Figure size 640x480 with 1 Axes>"
      ]
     },
     "metadata": {},
     "output_type": "display_data"
    }
   ],
   "source": [
    "plt.hist(df[\"Portfolio loss\"], bins = 15, histtype=\"step\", lw=2)\n",
    "plt.xlabel(\"Loss ($)\")\n",
    "plt.ylabel(\"Frequency\")\n",
    "plt.show()"
   ]
  },
  {
   "cell_type": "markdown",
   "id": "55ddb855-e613-43f4-8724-5fd18a853447",
   "metadata": {},
   "source": [
    "### VaR 1 day, using python quantile"
   ]
  },
  {
   "cell_type": "code",
   "execution_count": 14,
   "id": "e1842d4e-9dc2-4929-a215-120fcd0118f3",
   "metadata": {},
   "outputs": [
    {
     "name": "stdout",
     "output_type": "stream",
     "text": [
      "VaR 1 day $ 217.97104094571608\n"
     ]
    }
   ],
   "source": [
    "print( \"VaR 1 day $\",df[\"Portfolio loss\"].quantile(0.99))"
   ]
  },
  {
   "cell_type": "markdown",
   "id": "baba7626-8b5d-4dcb-b14a-17c81eeea68f",
   "metadata": {},
   "source": [
    "### VaR 1 day, manual counting"
   ]
  },
  {
   "cell_type": "code",
   "execution_count": 15,
   "id": "fd646a7a-8fea-4a06-aead-2d5651ace155",
   "metadata": {},
   "outputs": [
    {
     "name": "stdout",
     "output_type": "stream",
     "text": [
      "VaR 1 day $ 253.3445778480283\n"
     ]
    }
   ],
   "source": [
    "### Manually calculating, the 5th day loss (500 entries / 100 * 1 (percentile) = 5th day loss)\n",
    "df.sort_values(by=\"Portfolio loss\", ascending=False, inplace=True)\n",
    "onepercentile = df.reset_index(drop=True).loc[int(df.shape[0] / 100)-1 ,'Portfolio loss']\n",
    "print( \"VaR 1 day $\",onepercentile )"
   ]
  },
  {
   "cell_type": "markdown",
   "id": "15b44517-0e8b-41e5-86fe-d1bfe37bf530",
   "metadata": {},
   "source": [
    "### Fitting (?)"
   ]
  },
  {
   "cell_type": "markdown",
   "id": "6fbddf6a-6f55-4972-a571-f609d7c95c74",
   "metadata": {},
   "source": [
    "Fitting the loss profile with a normal distribution and calculating  $\\mu$, $\\sigma$ accurately, should give better estimate"
   ]
  },
  {
   "cell_type": "code",
   "execution_count": null,
   "id": "0aefcf71-68a7-4504-8c3d-74b7e770ff7e",
   "metadata": {},
   "outputs": [],
   "source": []
  },
  {
   "cell_type": "markdown",
   "id": "8911edde-cd9c-42c7-b87a-24928ba2de05",
   "metadata": {},
   "source": [
    "1 day VaR (1% CL) = $2.33 \\times \\sigma + \\mu$ \n",
    "\n",
    "\n",
    "1 day VaR (5% CL) = $1.64 \\times \\sigma + \\mu$ \n",
    "\n"
   ]
  },
  {
   "cell_type": "markdown",
   "id": "e249eef3-7b4b-4113-a1d5-b1171b07b444",
   "metadata": {},
   "source": [
    "### 10 day VaR"
   ]
  },
  {
   "cell_type": "markdown",
   "id": "c41c4bdf-8821-41cb-ba0d-1be72865b3b2",
   "metadata": {},
   "source": [
    "10 day VaR  = $\\sqrt 10 \\times $ 1 day VaR "
   ]
  },
  {
   "cell_type": "raw",
   "id": "db955fa1-f57d-44af-88d7-c311c177bb83",
   "metadata": {},
   "source": [
    "## Method 2\n",
    "\n",
    "df.reset_index(inplace = True,  drop = True) # to safegurard to use the function\n",
    "df.loc[:, \"DJIA_return\"] = df.apply(lambda row: calculate_daily_return(row, df, \"DJIA\"), axis=1)\n",
    "df.loc[:, \"FTSE 100_return\"] = df.apply(lambda row: calculate_daily_return(row, df, \"FTSE 100\"), axis=1)\n",
    "df.loc[:, \"CAC 40_return\"] = df.apply(lambda row: calculate_daily_return(row, df, \"CAC 40\"), axis=1)\n",
    "df.loc[:, \"Nikkei 225_return\"] = df.apply(lambda row: calculate_daily_return(row, df, \"Nikkei 225\"), axis=1)\n",
    "\n",
    "def calculate_daily_loss(row, dataframe):\n",
    "        return - (row[\"DJIA_return\"] * 4000 + row[\"FTSE 100_return\"] * 3000 + row[\"CAC 40_return\"] * 1000 + row[\"Nikkei 225_return\"] * 2000)\n",
    "    \n",
    "df.loc[:, \"Portfolio loss\"] = df.apply(lambda row: calculate_daily_loss(row, df), axis=1)\n",
    "df.head()"
   ]
  },
  {
   "cell_type": "markdown",
   "id": "d31cc546-ebbe-4f88-82f2-aca8f4cd4969",
   "metadata": {},
   "source": [
    "# Covariance approach"
   ]
  },
  {
   "cell_type": "code",
   "execution_count": 29,
   "id": "2b466672-f39a-4b7b-bdd0-6d17752642ea",
   "metadata": {},
   "outputs": [],
   "source": [
    "#df[[i+'_return' for i in list(stock_dict.keys())]].cov()"
   ]
  },
  {
   "cell_type": "code",
   "execution_count": 30,
   "id": "c77ac3d3-73b1-4e9f-a477-5b93e00e1218",
   "metadata": {},
   "outputs": [],
   "source": [
    "#df[\"DJIA_return\"]"
   ]
  },
  {
   "cell_type": "code",
   "execution_count": null,
   "id": "419fcb8f-f31a-4ddd-8161-ea511e8e5c1a",
   "metadata": {},
   "outputs": [],
   "source": []
  },
  {
   "cell_type": "markdown",
   "id": "21d7039d-c810-4eb4-9732-089fd0f6b1e8",
   "metadata": {
    "tags": []
   },
   "source": [
    "# Monte Carlo Simulation"
   ]
  },
  {
   "cell_type": "code",
   "execution_count": null,
   "id": "414405a6-90f1-4923-81ae-8dab0726c26e",
   "metadata": {},
   "outputs": [],
   "source": []
  },
  {
   "cell_type": "code",
   "execution_count": null,
   "id": "edbecf73-7b1d-4fef-9350-35eaf2710072",
   "metadata": {},
   "outputs": [],
   "source": []
  },
  {
   "cell_type": "code",
   "execution_count": null,
   "id": "d3d6e073-948f-4840-9992-876f5f8422f8",
   "metadata": {},
   "outputs": [],
   "source": []
  }
 ],
 "metadata": {
  "kernelspec": {
   "display_name": "Python 3 (ipykernel)",
   "language": "python",
   "name": "python3"
  },
  "language_info": {
   "codemirror_mode": {
    "name": "ipython",
    "version": 3
   },
   "file_extension": ".py",
   "mimetype": "text/x-python",
   "name": "python",
   "nbconvert_exporter": "python",
   "pygments_lexer": "ipython3",
   "version": "3.9.12"
  }
 },
 "nbformat": 4,
 "nbformat_minor": 5
}
